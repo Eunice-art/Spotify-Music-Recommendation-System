{
 "cells": [
  {
   "cell_type": "markdown",
   "id": "48de90eb",
   "metadata": {},
   "source": [
    "Music Recommendation Systems function by employing complex algorithms that examine extensive datasets related to users' musical activities. This includes their listening history, favorited tracks, skipped songs, and even explicit user preferences expressed through ratings or feedback. These various data points play a crucial role in creating detailed user profiles, outlining unique tastes and preferences for personalized music recommendations.\n",
    "\n",
    "##### This project will focus on build a music recommendation system based on Spotify\n",
    "\n",
    "To complete this task,I will obtain a Spotify developer account in order to acquire credentials from Spotify for data access. The Spotify API allows engagement with Spotify's extensive music catalog and I can gather data related to music.I can retrieve information such as tracks, albums, artists, playlists, user profiles, and play history, among other functionalities.\n",
    "\n",
    "SPOTIFY DEVELOPER DASHBOARD: https://developer.spotify.com/dashboard"
   ]
  },
  {
   "cell_type": "markdown",
   "id": "e2038a62",
   "metadata": {},
   "source": [
    "#### Access Token\n",
    "The access token functions as a provisional authorization credential, enabling the code to make authenticated requests to the Spotify API on behalf of the application.\n"
   ]
  },
  {
   "cell_type": "code",
   "execution_count": 1,
   "id": "7ee6b8e3",
   "metadata": {},
   "outputs": [
    {
     "name": "stdout",
     "output_type": "stream",
     "text": [
      "Access token obtained successfully.\n"
     ]
    }
   ],
   "source": [
    "import requests\n",
    "import base64\n",
    "\n",
    "CLIENT_ID = 'a395ee2e638f41f0b20024580387a437'\n",
    "CLIENT_SECRET = '9c56c811a9cf41bcb9f9e68215343abe'\n",
    "\n",
    "# Base64 encode the client ID and client secret\n",
    "client_credentials = f\"{CLIENT_ID}:{CLIENT_SECRET}\"\n",
    "client_credentials_base64 = base64.b64encode(client_credentials.encode())\n",
    "\n",
    "# Request the access token\n",
    "token_url = 'https://accounts.spotify.com/api/token'\n",
    "headers = {\n",
    "    'Authorization': f'Basic {client_credentials_base64.decode()}'\n",
    "}\n",
    "data = {\n",
    "    'grant_type': 'client_credentials'\n",
    "}\n",
    "response = requests.post(token_url, data=data, headers=headers)\n",
    "\n",
    "if response.status_code == 200:\n",
    "    access_token = response.json()['access_token']\n",
    "    print(\"Access token obtained successfully.\")\n",
    "else:\n",
    "    print(\"Error obtaining access token.\")\n",
    "    exit()"
   ]
  },
  {
   "cell_type": "markdown",
   "id": "3d06541f",
   "metadata": {},
   "source": [
    "#### Get music data from any playlist on Spotify\n",
    "\n",
    "For this task, I need to install the Spotipy library, which is a Python library providing access to Spotify’s web API."
   ]
  },
  {
   "cell_type": "code",
   "execution_count": 4,
   "id": "4c034a36",
   "metadata": {},
   "outputs": [
    {
     "name": "stdout",
     "output_type": "stream",
     "text": [
      "Collecting spotipy\n",
      "  Downloading spotipy-2.23.0-py3-none-any.whl (29 kB)\n",
      "Requirement already satisfied: urllib3>=1.26.0 in c:\\users\\eunic\\anaconda3\\lib\\site-packages (from spotipy) (1.26.9)\n",
      "Collecting redis>=3.5.3\n",
      "  Downloading redis-5.0.1-py3-none-any.whl (250 kB)\n",
      "Requirement already satisfied: requests>=2.25.0 in c:\\users\\eunic\\anaconda3\\lib\\site-packages (from spotipy) (2.27.1)\n",
      "Requirement already satisfied: six>=1.15.0 in c:\\users\\eunic\\anaconda3\\lib\\site-packages (from spotipy) (1.16.0)\n",
      "Collecting async-timeout>=4.0.2\n",
      "  Downloading async_timeout-4.0.3-py3-none-any.whl (5.7 kB)\n",
      "Requirement already satisfied: certifi>=2017.4.17 in c:\\users\\eunic\\anaconda3\\lib\\site-packages (from requests>=2.25.0->spotipy) (2021.10.8)\n",
      "Requirement already satisfied: idna<4,>=2.5 in c:\\users\\eunic\\anaconda3\\lib\\site-packages (from requests>=2.25.0->spotipy) (3.3)\n",
      "Requirement already satisfied: charset-normalizer~=2.0.0 in c:\\users\\eunic\\anaconda3\\lib\\site-packages (from requests>=2.25.0->spotipy) (2.0.4)\n",
      "Installing collected packages: async-timeout, redis, spotipy\n",
      "  Attempting uninstall: async-timeout\n",
      "    Found existing installation: async-timeout 4.0.1\n",
      "    Uninstalling async-timeout-4.0.1:\n",
      "      Successfully uninstalled async-timeout-4.0.1\n",
      "Successfully installed async-timeout-4.0.3 redis-5.0.1 spotipy-2.23.0\n",
      "Note: you may need to restart the kernel to use updated packages.\n"
     ]
    }
   ],
   "source": [
    "pip install spotipy"
   ]
  },
  {
   "cell_type": "markdown",
   "id": "51488cbe",
   "metadata": {},
   "source": [
    "##### Collecting music data from any playlist on Spotify using the Spotipy library"
   ]
  },
  {
   "cell_type": "code",
   "execution_count": 5,
   "id": "84cbe129",
   "metadata": {},
   "outputs": [],
   "source": [
    "import pandas as pd\n",
    "import spotipy\n",
    "from spotipy.oauth2 import SpotifyOAuth\n",
    "\n",
    "def get_trending_playlist_data(playlist_id, access_token):\n",
    "    # Set up Spotipy with the access token\n",
    "    sp = spotipy.Spotify(auth=access_token)\n",
    "\n",
    "    # Get the tracks from the playlist\n",
    "    playlist_tracks = sp.playlist_tracks(playlist_id, fields='items(track(id, name, artists, album(id, name)))')\n",
    "\n",
    "    # Extract relevant information and store in a list of dictionaries\n",
    "    music_data = []\n",
    "    for track_info in playlist_tracks['items']:\n",
    "        track = track_info['track']\n",
    "        track_name = track['name']\n",
    "        artists = ', '.join([artist['name'] for artist in track['artists']])\n",
    "        album_name = track['album']['name']\n",
    "        album_id = track['album']['id']\n",
    "        track_id = track['id']\n",
    "\n",
    "        # Get audio features for the track\n",
    "        audio_features = sp.audio_features(track_id)[0] if track_id != 'Not available' else None\n",
    "\n",
    "        # Get release date of the album\n",
    "        try:\n",
    "            album_info = sp.album(album_id) if album_id != 'Not available' else None\n",
    "            release_date = album_info['release_date'] if album_info else None\n",
    "        except:\n",
    "            release_date = None\n",
    "\n",
    "        # Get popularity of the track\n",
    "        try:\n",
    "            track_info = sp.track(track_id) if track_id != 'Not available' else None\n",
    "            popularity = track_info['popularity'] if track_info else None\n",
    "        except:\n",
    "            popularity = None\n",
    "\n",
    "        # Add additional track information to the track data\n",
    "        track_data = {\n",
    "            'Track Name': track_name,\n",
    "            'Artists': artists,\n",
    "            'Album Name': album_name,\n",
    "            'Album ID': album_id,\n",
    "            'Track ID': track_id,\n",
    "            'Popularity': popularity,\n",
    "            'Release Date': release_date,\n",
    "            'Duration (ms)': audio_features['duration_ms'] if audio_features else None,\n",
    "            'Explicit': track_info.get('explicit', None),\n",
    "            'External URLs': track_info.get('external_urls', {}).get('spotify', None),\n",
    "            'Danceability': audio_features['danceability'] if audio_features else None,\n",
    "            'Energy': audio_features['energy'] if audio_features else None,\n",
    "            'Key': audio_features['key'] if audio_features else None,\n",
    "            'Loudness': audio_features['loudness'] if audio_features else None,\n",
    "            'Mode': audio_features['mode'] if audio_features else None,\n",
    "            'Speechiness': audio_features['speechiness'] if audio_features else None,\n",
    "            'Acousticness': audio_features['acousticness'] if audio_features else None,\n",
    "            'Instrumentalness': audio_features['instrumentalness'] if audio_features else None,\n",
    "            'Liveness': audio_features['liveness'] if audio_features else None,\n",
    "            'Valence': audio_features['valence'] if audio_features else None,\n",
    "            'Tempo': audio_features['tempo'] if audio_features else None,\n",
    "            # Add more attributes as needed\n",
    "        }\n",
    "\n",
    "        music_data.append(track_data)\n",
    "\n",
    "    # Create a pandas DataFrame from the list of dictionaries\n",
    "    df = pd.DataFrame(music_data)\n",
    "\n",
    "    return df"
   ]
  },
  {
   "cell_type": "markdown",
   "id": "ddf0eeeb",
   "metadata": {},
   "source": [
    "The extracted information for all tracks is stored in the music_data list. The function then creates a DataFrame from the music_data list. The DataFrame organizes the music data in a tabular format, making it easier to analyze and work with the collected information."
   ]
  },
  {
   "cell_type": "markdown",
   "id": "e88ed45a",
   "metadata": {},
   "source": [
    "#### Get music data from playlist\n",
    "I will get the trending playlist data from a playlist ID"
   ]
  },
  {
   "cell_type": "code",
   "execution_count": 6,
   "id": "a59e6bd5",
   "metadata": {},
   "outputs": [
    {
     "name": "stdout",
     "output_type": "stream",
     "text": [
      "                          Track Name                        Artists  \\\n",
      "0                              Prada    cassö, RAYE, D-Block Europe   \n",
      "1                           fukumean                          Gunna   \n",
      "2                 IDGAF (feat. Yeat)                    Drake, Yeat   \n",
      "3                    I'm Good (Blue)       David Guetta, Bebe Rexha   \n",
      "4   Vois sur ton chemin - Techno Mix                        BENNETT   \n",
      "..                               ...                            ...   \n",
      "95                     All By Myself   Alok, Sigala, Ellie Goulding   \n",
      "96      Kernkraft 400 (A Better Day)                     Topic, A7S   \n",
      "97             Rainfall (Praise You)                      Tom Santa   \n",
      "98                            LOKERA  Rauw Alejandro, Lyanno, Brray   \n",
      "99                 MONEY ON THE DASH            Elley Duhé, Whethan   \n",
      "\n",
      "                          Album Name                Album ID  \\\n",
      "0                              Prada  5MU0RmBSpoSxOPYBfcobDc   \n",
      "1                   a Gift & a Curse  5qmZefgh78fN3jsyPPlvuw   \n",
      "2                   For All The Dogs  4czdORdCWP9umpbhFXK2fW   \n",
      "3                    I'm Good (Blue)  7M842DMhYVALrXsw3ty7B3   \n",
      "4   Vois sur ton chemin (Techno Mix)  79Cyc8GRWnLyjdJSMyJ0dB   \n",
      "..                               ...                     ...   \n",
      "95                     All By Myself  3lAmnw0gNntYuTltwETnSn   \n",
      "96      Kernkraft 400 (A Better Day)  2NIChqkijGw4r4Dqfmg0A3   \n",
      "97             Rainfall (Praise You)  4VanY5i4E59Mhz52qznJ95   \n",
      "98                            LOKERA  4vJcqwIGUuk5TeP29OPovU   \n",
      "99                 MONEY ON THE DASH  1nlaLDMPSzXL8G5LPBDhwd   \n",
      "\n",
      "                  Track ID  Popularity Release Date  Duration (ms)  Explicit  \\\n",
      "0   59NraMJsLaMCVtwXTSia8i          94   2023-08-11         132359      True   \n",
      "1   4rXLjWdF2ZZpXCVTfWcshS          93   2023-06-16         125040      True   \n",
      "2   2YSzYUF3jWqb9YP9VXmpjE          93   2023-10-06         260111      True   \n",
      "3   4uUG5RXrOk84mYEfFvj3cK          91   2022-08-26         175238      True   \n",
      "4   31nfdEooLEq7dn3UMcIeB5          90   2023-08-04         178156     False   \n",
      "..                     ...         ...          ...            ...       ...   \n",
      "95  5Hp4xFihdOE2dmDzxWcBFb          76   2022-10-07         171778     False   \n",
      "96  3kcKlOkQQEPVwxwljbGJ5p          76   2022-06-17         165800     False   \n",
      "97  1M8t1j3Kv2qp97bdq5q4Vl          76   2022-02-18         166570     False   \n",
      "98  79HZAZNnOE97rb2hnI0XQr          75   2022-07-25         195294      True   \n",
      "99  1p0jBDjxORjYNJyAphBRpE          75   2023-01-20         145667     False   \n",
      "\n",
      "                                        External URLs  ...  Energy  Key  \\\n",
      "0   https://open.spotify.com/track/59NraMJsLaMCVtw...  ...   0.717    8   \n",
      "1   https://open.spotify.com/track/4rXLjWdF2ZZpXCV...  ...   0.622    1   \n",
      "2   https://open.spotify.com/track/2YSzYUF3jWqb9YP...  ...   0.670    8   \n",
      "3   https://open.spotify.com/track/4uUG5RXrOk84mYE...  ...   0.965    7   \n",
      "4   https://open.spotify.com/track/31nfdEooLEq7dn3...  ...   0.824    2   \n",
      "..                                                ...  ...     ...  ...   \n",
      "95  https://open.spotify.com/track/5Hp4xFihdOE2dmD...  ...   0.848    0   \n",
      "96  https://open.spotify.com/track/3kcKlOkQQEPVwxw...  ...   0.727   11   \n",
      "97  https://open.spotify.com/track/1M8t1j3Kv2qp97b...  ...   0.862    5   \n",
      "98  https://open.spotify.com/track/79HZAZNnOE97rb2...  ...   0.828   11   \n",
      "99  https://open.spotify.com/track/1p0jBDjxORjYNJy...  ...   0.667    8   \n",
      "\n",
      "    Loudness  Mode  Speechiness  Acousticness  Instrumentalness  Liveness  \\\n",
      "0     -5.804     1       0.0375       0.00100          0.000002     0.113   \n",
      "1     -6.747     0       0.0903       0.11900          0.000000     0.285   \n",
      "2     -8.399     1       0.2710       0.04640          0.000089     0.205   \n",
      "3     -3.673     0       0.0343       0.00383          0.000007     0.371   \n",
      "4     -3.394     0       0.0470       0.09080          0.071100     0.119   \n",
      "..       ...   ...          ...           ...               ...       ...   \n",
      "95    -4.338     0       0.0346       0.09320          0.000008     0.241   \n",
      "96    -5.570     0       0.0562       0.18400          0.000020     0.309   \n",
      "97    -5.464     0       0.0606       0.14000          0.009200     0.252   \n",
      "98    -2.657     0       0.0452       0.21000          0.000006     0.103   \n",
      "99    -7.126     1       0.0843       0.04390          0.000013     0.179   \n",
      "\n",
      "    Valence    Tempo  \n",
      "0     0.422  141.904  \n",
      "1     0.220  130.001  \n",
      "2     0.138  136.952  \n",
      "3     0.304  128.040  \n",
      "4     0.371  137.959  \n",
      "..      ...      ...  \n",
      "95    0.773  123.041  \n",
      "96    0.400  125.975  \n",
      "97    0.509  128.039  \n",
      "98    0.580  102.019  \n",
      "99    0.292  120.044  \n",
      "\n",
      "[100 rows x 21 columns]\n"
     ]
    }
   ],
   "source": [
    "playlist_id = '37i9dQZF1DX76Wlfdnj7AP'\n",
    "\n",
    "# Call the function to get the music data from the playlist and store it in a DataFrame\n",
    "music_df = get_trending_playlist_data(playlist_id, access_token)\n",
    "\n",
    "# Display the DataFrame\n",
    "print(music_df)"
   ]
  },
  {
   "cell_type": "markdown",
   "id": "6bb68c0f",
   "metadata": {},
   "source": [
    "##### Check for null values (EDA)"
   ]
  },
  {
   "cell_type": "code",
   "execution_count": 7,
   "id": "a0e3dbc6",
   "metadata": {},
   "outputs": [
    {
     "name": "stdout",
     "output_type": "stream",
     "text": [
      "Track Name          0\n",
      "Artists             0\n",
      "Album Name          0\n",
      "Album ID            0\n",
      "Track ID            0\n",
      "Popularity          0\n",
      "Release Date        0\n",
      "Duration (ms)       0\n",
      "Explicit            0\n",
      "External URLs       0\n",
      "Danceability        0\n",
      "Energy              0\n",
      "Key                 0\n",
      "Loudness            0\n",
      "Mode                0\n",
      "Speechiness         0\n",
      "Acousticness        0\n",
      "Instrumentalness    0\n",
      "Liveness            0\n",
      "Valence             0\n",
      "Tempo               0\n",
      "dtype: int64\n"
     ]
    }
   ],
   "source": [
    "print(music_df.isnull().sum())"
   ]
  },
  {
   "cell_type": "markdown",
   "id": "e61be4b9",
   "metadata": {},
   "source": [
    "##### Import the necessary Python libraries"
   ]
  },
  {
   "cell_type": "code",
   "execution_count": 8,
   "id": "a5eb0ff0",
   "metadata": {},
   "outputs": [],
   "source": [
    "import pandas as pd\n",
    "import numpy as np\n",
    "from sklearn.model_selection import train_test_split\n",
    "from sklearn.preprocessing import MinMaxScaler\n",
    "from datetime import datetime\n",
    "from sklearn.metrics.pairwise import cosine_similarity\n",
    "\n",
    "data = music_df"
   ]
  },
  {
   "cell_type": "markdown",
   "id": "8118dbe2",
   "metadata": {},
   "source": [
    "While providing music recommendations to users, it is important to recommend the latest releases. For this, I'll give more weight to the latest releases in the recommendations. "
   ]
  },
  {
   "cell_type": "code",
   "execution_count": null,
   "id": "c0469f13",
   "metadata": {},
   "outputs": [],
   "source": [
    "# Function to calculate weighted popularity scores based on release date\n",
    "def calculate_weighted_popularity(release_date):\n",
    "    # Convert the release date to datetime object\n",
    "    release_date = datetime.strptime(release_date, '%Y-%m-%d')\n",
    "\n",
    "    # Calculate the time span between release date and today's date\n",
    "    time_span = datetime.now() - release_date\n",
    "\n",
    "    # Calculate the weighted popularity score based on time span (e.g., more recent releases have higher weight)\n",
    "    weight = 1 / (time_span.days + 1)\n",
    "    return weight"
   ]
  },
  {
   "cell_type": "markdown",
   "id": "f3da9f6e",
   "metadata": {},
   "source": [
    "##### Normalize the music features"
   ]
  },
  {
   "cell_type": "code",
   "execution_count": null,
   "id": "ada345c9",
   "metadata": {},
   "outputs": [],
   "source": [
    "# Normalize the music features using Min-Max scaling\n",
    "scaler = MinMaxScaler()\n",
    "music_features = music_df[['Danceability', 'Energy', 'Key', \n",
    "                           'Loudness', 'Mode', 'Speechiness', 'Acousticness',\n",
    "                           'Instrumentalness', 'Liveness', 'Valence', 'Tempo']].values\n",
    "music_features_scaled = scaler.fit_transform(music_features)"
   ]
  },
  {
   "cell_type": "markdown",
   "id": "699c5671",
   "metadata": {},
   "source": [
    "I'll create a hybrid recommendation system for music recommendations. The first approach will be based on recommending music based on music audio features, and the second approach will be based on recommending music based on weighted popularity."
   ]
  },
  {
   "cell_type": "markdown",
   "id": "04cd59cd",
   "metadata": {},
   "source": [
    "##### Generate music recommendations based on the music audio features"
   ]
  },
  {
   "cell_type": "code",
   "execution_count": null,
   "id": "e9fc988e",
   "metadata": {},
   "outputs": [],
   "source": [
    "# A function to get content-based recommendations based on music features\n",
    "def content_based_recommendations(input_song_name, num_recommendations=5):\n",
    "    if input_song_name not in music_df['Track Name'].values:\n",
    "        print(f\"'{input_song_name}' not found in the dataset. Please enter a valid song name.\")\n",
    "        return\n",
    "\n",
    "    # Get the index of the input song in the music DataFrame\n",
    "    input_song_index = music_df[music_df['Track Name'] == input_song_name].index[0]\n",
    "\n",
    "    # Calculate the similarity scores based on music features (cosine similarity)\n",
    "    similarity_scores = cosine_similarity([music_features_scaled[input_song_index]], music_features_scaled)\n",
    "\n",
    "    # Get the indices of the most similar songs\n",
    "    similar_song_indices = similarity_scores.argsort()[0][::-1][1:num_recommendations + 1]\n",
    "\n",
    "    # Get the names of the most similar songs based on content-based filtering\n",
    "    content_based_recommendations = music_df.iloc[similar_song_indices][['Track Name', 'Artists', 'Album Name', 'Release Date', 'Popularity']]\n",
    "\n",
    "    return content_based_recommendations"
   ]
  },
  {
   "cell_type": "markdown",
   "id": "5c895c03",
   "metadata": {},
   "source": [
    "##### Generate music recommendations based on weighted popularity and combine it with the recommendations of the content-based filtering method using the hybrid approach"
   ]
  },
  {
   "cell_type": "code",
   "execution_count": null,
   "id": "aeb0571d",
   "metadata": {},
   "outputs": [],
   "source": [
    "# A function to get hybrid recommendations based on weighted popularity\n",
    "def hybrid_recommendations(input_song_name, num_recommendations=5, alpha=0.5):\n",
    "    if input_song_name not in music_df['Track Name'].values:\n",
    "        print(f\"'{input_song_name}' not found in the dataset. Please enter a valid song name.\")\n",
    "        return\n",
    "\n",
    "    # Get content-based recommendations\n",
    "    content_based_rec = content_based_recommendations(input_song_name, num_recommendations)\n",
    "\n",
    "    # Get the popularity score of the input song\n",
    "    popularity_score = music_df.loc[music_df['Track Name'] == input_song_name, 'Popularity'].values[0]\n",
    "\n",
    "    # Calculate the weighted popularity score\n",
    "    weighted_popularity_score = popularity_score * calculate_weighted_popularity(music_df.loc[music_df['Track Name'] == input_song_name, 'Release Date'].values[0])\n",
    "\n",
    "    # Combine content-based and popularity-based recommendations based on weighted popularity\n",
    "    hybrid_recommendations = content_based_rec\n",
    "    hybrid_recommendations = hybrid_recommendations.append({\n",
    "        'Track Name': input_song_name,\n",
    "        'Artists': music_df.loc[music_df['Track Name'] == input_song_name, 'Artists'].values[0],\n",
    "        'Album Name': music_df.loc[music_df['Track Name'] == input_song_name, 'Album Name'].values[0],\n",
    "        'Release Date': music_df.loc[music_df['Track Name'] == input_song_name, 'Release Date'].values[0],\n",
    "        'Popularity': weighted_popularity_score\n",
    "    }, ignore_index=True)\n",
    "\n",
    "    # Sort the hybrid recommendations based on weighted popularity score\n",
    "    hybrid_recommendations = hybrid_recommendations.sort_values(by='Popularity', ascending=False)\n",
    "\n",
    "    # Remove the input song from the recommendations\n",
    "    hybrid_recommendations = hybrid_recommendations[hybrid_recommendations['Track Name'] != input_song_name]\n",
    "\n",
    "\n",
    "    return hybrid_recommendations"
   ]
  },
  {
   "cell_type": "markdown",
   "id": "e84eb41b",
   "metadata": {},
   "source": [
    "##### Test the final function to generate music recommendations"
   ]
  },
  {
   "cell_type": "code",
   "execution_count": null,
   "id": "c7051c58",
   "metadata": {},
   "outputs": [],
   "source": [
    "input_song_name = \"I'm Good (Blue)\"\n",
    "recommendations = hybrid_recommendations(input_song_name, num_recommendations=5)\n",
    "print(f\"Hybrid recommended songs for '{input_song_name}':\")\n",
    "print(recommendations)"
   ]
  },
  {
   "cell_type": "markdown",
   "id": "50e57935",
   "metadata": {},
   "source": [
    "This is how you can create a Music Recommendation System using Spotify API and Python."
   ]
  },
  {
   "cell_type": "code",
   "execution_count": null,
   "id": "2ad92474",
   "metadata": {},
   "outputs": [],
   "source": []
  }
 ],
 "metadata": {
  "kernelspec": {
   "display_name": "Python 3 (ipykernel)",
   "language": "python",
   "name": "python3"
  },
  "language_info": {
   "codemirror_mode": {
    "name": "ipython",
    "version": 3
   },
   "file_extension": ".py",
   "mimetype": "text/x-python",
   "name": "python",
   "nbconvert_exporter": "python",
   "pygments_lexer": "ipython3",
   "version": "3.9.12"
  }
 },
 "nbformat": 4,
 "nbformat_minor": 5
}
